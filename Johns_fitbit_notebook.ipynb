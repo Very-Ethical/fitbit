{
 "cells": [
  {
   "cell_type": "code",
   "execution_count": 1,
   "metadata": {},
   "outputs": [],
   "source": [
    "import acquire as a\n",
    "import prepare as p \n",
    "%matplotlib inline\n",
    "import matplotlib as plt\n",
    "import seaborn as sns"
   ]
  },
  {
   "cell_type": "code",
   "execution_count": 2,
   "metadata": {},
   "outputs": [],
   "source": [
    "df = a.get_activity()"
   ]
  },
  {
   "cell_type": "code",
   "execution_count": 3,
   "metadata": {},
   "outputs": [],
   "source": [
    "df = p.prep_activity(df)"
   ]
  },
  {
   "cell_type": "code",
   "execution_count": 4,
   "metadata": {},
   "outputs": [
    {
     "data": {
      "text/html": [
       "<div>\n",
       "<style scoped>\n",
       "    .dataframe tbody tr th:only-of-type {\n",
       "        vertical-align: middle;\n",
       "    }\n",
       "\n",
       "    .dataframe tbody tr th {\n",
       "        vertical-align: top;\n",
       "    }\n",
       "\n",
       "    .dataframe thead th {\n",
       "        text-align: right;\n",
       "    }\n",
       "</style>\n",
       "<table border=\"1\" class=\"dataframe\">\n",
       "  <thead>\n",
       "    <tr style=\"text-align: right;\">\n",
       "      <th></th>\n",
       "      <th>total_burned</th>\n",
       "      <th>steps</th>\n",
       "      <th>distance</th>\n",
       "      <th>floors</th>\n",
       "      <th>sedentary</th>\n",
       "      <th>lightly</th>\n",
       "      <th>fairly</th>\n",
       "      <th>very</th>\n",
       "      <th>active_burned</th>\n",
       "      <th>bmr</th>\n",
       "      <th>time</th>\n",
       "    </tr>\n",
       "    <tr>\n",
       "      <th>date</th>\n",
       "      <th></th>\n",
       "      <th></th>\n",
       "      <th></th>\n",
       "      <th></th>\n",
       "      <th></th>\n",
       "      <th></th>\n",
       "      <th></th>\n",
       "      <th></th>\n",
       "      <th></th>\n",
       "      <th></th>\n",
       "      <th></th>\n",
       "    </tr>\n",
       "  </thead>\n",
       "  <tbody>\n",
       "    <tr>\n",
       "      <th>2018-04-26</th>\n",
       "      <td>2635</td>\n",
       "      <td>2931</td>\n",
       "      <td>1.38</td>\n",
       "      <td>2</td>\n",
       "      <td>1347</td>\n",
       "      <td>93</td>\n",
       "      <td>0</td>\n",
       "      <td>0</td>\n",
       "      <td>566</td>\n",
       "      <td>2069</td>\n",
       "      <td>1440</td>\n",
       "    </tr>\n",
       "    <tr>\n",
       "      <th>2018-04-27</th>\n",
       "      <td>3649</td>\n",
       "      <td>9971</td>\n",
       "      <td>4.70</td>\n",
       "      <td>19</td>\n",
       "      <td>1158</td>\n",
       "      <td>219</td>\n",
       "      <td>46</td>\n",
       "      <td>17</td>\n",
       "      <td>1752</td>\n",
       "      <td>1897</td>\n",
       "      <td>1440</td>\n",
       "    </tr>\n",
       "    <tr>\n",
       "      <th>2018-04-28</th>\n",
       "      <td>3379</td>\n",
       "      <td>3521</td>\n",
       "      <td>1.66</td>\n",
       "      <td>2</td>\n",
       "      <td>702</td>\n",
       "      <td>155</td>\n",
       "      <td>22</td>\n",
       "      <td>11</td>\n",
       "      <td>1124</td>\n",
       "      <td>2255</td>\n",
       "      <td>890</td>\n",
       "    </tr>\n",
       "    <tr>\n",
       "      <th>2018-04-29</th>\n",
       "      <td>2851</td>\n",
       "      <td>1639</td>\n",
       "      <td>0.77</td>\n",
       "      <td>0</td>\n",
       "      <td>891</td>\n",
       "      <td>122</td>\n",
       "      <td>0</td>\n",
       "      <td>0</td>\n",
       "      <td>602</td>\n",
       "      <td>2249</td>\n",
       "      <td>1013</td>\n",
       "    </tr>\n",
       "    <tr>\n",
       "      <th>2018-04-30</th>\n",
       "      <td>2825</td>\n",
       "      <td>1323</td>\n",
       "      <td>0.62</td>\n",
       "      <td>0</td>\n",
       "      <td>880</td>\n",
       "      <td>104</td>\n",
       "      <td>0</td>\n",
       "      <td>0</td>\n",
       "      <td>540</td>\n",
       "      <td>2285</td>\n",
       "      <td>984</td>\n",
       "    </tr>\n",
       "  </tbody>\n",
       "</table>\n",
       "</div>"
      ],
      "text/plain": [
       "            total_burned  steps  distance  floors  sedentary  lightly  fairly  \\\n",
       "date                                                                            \n",
       "2018-04-26          2635   2931      1.38       2       1347       93       0   \n",
       "2018-04-27          3649   9971      4.70      19       1158      219      46   \n",
       "2018-04-28          3379   3521      1.66       2        702      155      22   \n",
       "2018-04-29          2851   1639      0.77       0        891      122       0   \n",
       "2018-04-30          2825   1323      0.62       0        880      104       0   \n",
       "\n",
       "            very  active_burned   bmr  time  \n",
       "date                                         \n",
       "2018-04-26     0            566  2069  1440  \n",
       "2018-04-27    17           1752  1897  1440  \n",
       "2018-04-28    11           1124  2255   890  \n",
       "2018-04-29     0            602  2249  1013  \n",
       "2018-04-30     0            540  2285   984  "
      ]
     },
     "execution_count": 4,
     "metadata": {},
     "output_type": "execute_result"
    }
   ],
   "source": [
    "df.head()"
   ]
  },
  {
   "cell_type": "markdown",
   "metadata": {},
   "source": [
    "# Data Dictionary:\n",
    "\n",
    "\n",
    "Steps - number of steps taken, tracked by a 3-axis accelerometer, worn on the wrist. This sensor tracks the frequency, duration, intensity, and patterns of your movement. Numbers can appear artificially lower, if walking with arms still, such as pushing a stroller. Numbers can appear artificially higher, if sensor is jarred during inactivity, such as riding down a bumpy road.\n",
    "\n",
    "Distance – distance in miles traveled that day, calculated by multiplying steps and stride length. Stride length is a constant value determined by an individual’s height and weight. If an activity is tracked distance is calculated using GPS.\n",
    "\n",
    "Floors – floors traveled measured by an altimeter, which is a sensor that calculates altitude based on atmospheric pressure. The device is designed to detect pressure changes based on elevation gain, but other types of pressure changes, such as a gust of wind, a weather change, or opening a door, can occasionally cause your device to register extra floors.\n",
    "\n",
    "Zones – fitbit tracks the heartrate of the subject and records the amount of time the subject spends in defined fitness zones. These zones seem to correspond to the activity features presented in the date the have been renamed: out, fat_burn, cardio, and peak for brevity.  Each zone is described below in greater dertail.\n",
    "\n",
    "“out of zone” – time, in minutes, spent in in “out of zone” below 50% of max heart rate. not considered exercise.\n",
    "\n",
    "“fat burn zone” –  time, in minutes, spent in “fat burn zone” between 50 and 69% of max heart rate. Low to medium intensity workout.\n",
    "\n",
    "“cardio zone” – time, in minutes, spent in “cardio zone” between 70 and 84% of max heart rate. Medium to high intensity workout. \n",
    "\n",
    "“peak zone” – time, in minutes, spent in “peak zone” greater than 85% of max heart rate. Intended for short durations of intense exercise. \n",
    "\n",
    "Active_burned – number of calories fit bit estimates the subject had burned during exercise. Exact method of calculation is unknown.\n",
    "\n",
    "Total_burned – total number of calories burned during that day. Calculated using basal metabolic rate (the rate at which the subject burns calories at rest) and your activity data to estimate your calories burned. heart-rate data is also included, especially to estimate calories burned during exercise. \n",
    "\n",
    "BMR – number of calories burned that are not the result of activity. calculated by subtracting active_burn from total_burned\n",
    "Time – total time, in minuets, that fitbit was recording. Calculated using the total of out, fat_burn, cardio, and peak columns.\n"
   ]
  },
  {
   "cell_type": "code",
   "execution_count": 5,
   "metadata": {},
   "outputs": [
    {
     "data": {
      "text/html": [
       "<div>\n",
       "<style scoped>\n",
       "    .dataframe tbody tr th:only-of-type {\n",
       "        vertical-align: middle;\n",
       "    }\n",
       "\n",
       "    .dataframe tbody tr th {\n",
       "        vertical-align: top;\n",
       "    }\n",
       "\n",
       "    .dataframe thead th {\n",
       "        text-align: right;\n",
       "    }\n",
       "</style>\n",
       "<table border=\"1\" class=\"dataframe\">\n",
       "  <thead>\n",
       "    <tr style=\"text-align: right;\">\n",
       "      <th></th>\n",
       "      <th>total_burned</th>\n",
       "      <th>steps</th>\n",
       "      <th>distance</th>\n",
       "      <th>floors</th>\n",
       "      <th>sedentary</th>\n",
       "      <th>lightly</th>\n",
       "      <th>fairly</th>\n",
       "      <th>very</th>\n",
       "      <th>active_burned</th>\n",
       "      <th>bmr</th>\n",
       "      <th>time</th>\n",
       "    </tr>\n",
       "  </thead>\n",
       "  <tbody>\n",
       "    <tr>\n",
       "      <th>count</th>\n",
       "      <td>225.000000</td>\n",
       "      <td>225.000000</td>\n",
       "      <td>225.000000</td>\n",
       "      <td>225.000000</td>\n",
       "      <td>225.000000</td>\n",
       "      <td>225.000000</td>\n",
       "      <td>225.000000</td>\n",
       "      <td>225.000000</td>\n",
       "      <td>225.000000</td>\n",
       "      <td>225.000000</td>\n",
       "      <td>225.000000</td>\n",
       "    </tr>\n",
       "    <tr>\n",
       "      <th>mean</th>\n",
       "      <td>3401.911111</td>\n",
       "      <td>8536.186667</td>\n",
       "      <td>4.046800</td>\n",
       "      <td>12.591111</td>\n",
       "      <td>809.520000</td>\n",
       "      <td>188.235556</td>\n",
       "      <td>14.920000</td>\n",
       "      <td>33.871111</td>\n",
       "      <td>1484.546667</td>\n",
       "      <td>1917.364444</td>\n",
       "      <td>1046.546667</td>\n",
       "    </tr>\n",
       "    <tr>\n",
       "      <th>std</th>\n",
       "      <td>632.426578</td>\n",
       "      <td>5255.746608</td>\n",
       "      <td>2.506253</td>\n",
       "      <td>25.844174</td>\n",
       "      <td>243.232639</td>\n",
       "      <td>75.170001</td>\n",
       "      <td>15.363535</td>\n",
       "      <td>37.195986</td>\n",
       "      <td>747.795790</td>\n",
       "      <td>192.377351</td>\n",
       "      <td>187.948200</td>\n",
       "    </tr>\n",
       "    <tr>\n",
       "      <th>min</th>\n",
       "      <td>799.000000</td>\n",
       "      <td>0.000000</td>\n",
       "      <td>0.000000</td>\n",
       "      <td>0.000000</td>\n",
       "      <td>28.000000</td>\n",
       "      <td>0.000000</td>\n",
       "      <td>0.000000</td>\n",
       "      <td>0.000000</td>\n",
       "      <td>0.000000</td>\n",
       "      <td>748.000000</td>\n",
       "      <td>41.000000</td>\n",
       "    </tr>\n",
       "    <tr>\n",
       "      <th>25%</th>\n",
       "      <td>3069.000000</td>\n",
       "      <td>4714.000000</td>\n",
       "      <td>2.220000</td>\n",
       "      <td>2.000000</td>\n",
       "      <td>654.000000</td>\n",
       "      <td>158.000000</td>\n",
       "      <td>3.000000</td>\n",
       "      <td>2.000000</td>\n",
       "      <td>1062.000000</td>\n",
       "      <td>1792.000000</td>\n",
       "      <td>940.000000</td>\n",
       "    </tr>\n",
       "    <tr>\n",
       "      <th>50%</th>\n",
       "      <td>3385.000000</td>\n",
       "      <td>7806.000000</td>\n",
       "      <td>3.680000</td>\n",
       "      <td>7.000000</td>\n",
       "      <td>750.000000</td>\n",
       "      <td>203.000000</td>\n",
       "      <td>11.000000</td>\n",
       "      <td>15.000000</td>\n",
       "      <td>1481.000000</td>\n",
       "      <td>1923.000000</td>\n",
       "      <td>996.000000</td>\n",
       "    </tr>\n",
       "    <tr>\n",
       "      <th>75%</th>\n",
       "      <td>3765.000000</td>\n",
       "      <td>12380.000000</td>\n",
       "      <td>5.900000</td>\n",
       "      <td>13.000000</td>\n",
       "      <td>877.000000</td>\n",
       "      <td>236.000000</td>\n",
       "      <td>21.000000</td>\n",
       "      <td>63.000000</td>\n",
       "      <td>1962.000000</td>\n",
       "      <td>2055.000000</td>\n",
       "      <td>1076.000000</td>\n",
       "    </tr>\n",
       "    <tr>\n",
       "      <th>max</th>\n",
       "      <td>5199.000000</td>\n",
       "      <td>25512.000000</td>\n",
       "      <td>12.000000</td>\n",
       "      <td>195.000000</td>\n",
       "      <td>1440.000000</td>\n",
       "      <td>349.000000</td>\n",
       "      <td>78.000000</td>\n",
       "      <td>154.000000</td>\n",
       "      <td>3596.000000</td>\n",
       "      <td>2291.000000</td>\n",
       "      <td>1440.000000</td>\n",
       "    </tr>\n",
       "  </tbody>\n",
       "</table>\n",
       "</div>"
      ],
      "text/plain": [
       "       total_burned         steps    distance      floors    sedentary  \\\n",
       "count    225.000000    225.000000  225.000000  225.000000   225.000000   \n",
       "mean    3401.911111   8536.186667    4.046800   12.591111   809.520000   \n",
       "std      632.426578   5255.746608    2.506253   25.844174   243.232639   \n",
       "min      799.000000      0.000000    0.000000    0.000000    28.000000   \n",
       "25%     3069.000000   4714.000000    2.220000    2.000000   654.000000   \n",
       "50%     3385.000000   7806.000000    3.680000    7.000000   750.000000   \n",
       "75%     3765.000000  12380.000000    5.900000   13.000000   877.000000   \n",
       "max     5199.000000  25512.000000   12.000000  195.000000  1440.000000   \n",
       "\n",
       "          lightly      fairly        very  active_burned          bmr  \\\n",
       "count  225.000000  225.000000  225.000000     225.000000   225.000000   \n",
       "mean   188.235556   14.920000   33.871111    1484.546667  1917.364444   \n",
       "std     75.170001   15.363535   37.195986     747.795790   192.377351   \n",
       "min      0.000000    0.000000    0.000000       0.000000   748.000000   \n",
       "25%    158.000000    3.000000    2.000000    1062.000000  1792.000000   \n",
       "50%    203.000000   11.000000   15.000000    1481.000000  1923.000000   \n",
       "75%    236.000000   21.000000   63.000000    1962.000000  2055.000000   \n",
       "max    349.000000   78.000000  154.000000    3596.000000  2291.000000   \n",
       "\n",
       "              time  \n",
       "count   225.000000  \n",
       "mean   1046.546667  \n",
       "std     187.948200  \n",
       "min      41.000000  \n",
       "25%     940.000000  \n",
       "50%     996.000000  \n",
       "75%    1076.000000  \n",
       "max    1440.000000  "
      ]
     },
     "execution_count": 5,
     "metadata": {},
     "output_type": "execute_result"
    }
   ],
   "source": [
    "df.describe()"
   ]
  },
  {
   "cell_type": "markdown",
   "metadata": {},
   "source": [
    "# Lable Swap\n",
    "\n",
    "It is recommended that healthy adults get at least 150 minutes of moderate aerobic activity or 75 minutes of vigorous aerobic activity per day. This comes to roughly 21 minutes of moderate activity per day or 11 minutes of vigorous activity per day.\n",
    "\n",
    "Based on this we would expect that the subject's fairly active time to exceed his very active time here it does not\n",
    "\n",
    "According to the fitbit website the  fairly active  or “cardio zone” should be the target zone for most people during their exercise. the very active or “peak zone” is intended for short durations.\n",
    "\n",
    "Looking as the plot of the two columns in the subsequent graph one can see that these roles seem to be reversed.\n",
    "\n",
    "For these reasons, and the fact that the man in the white coat, we spoke to earlier mentioned that he may have mixed up the labels we believe that the fairly active and very active columns have been swapped with one another."
   ]
  },
  {
   "cell_type": "code",
   "execution_count": 26,
   "metadata": {},
   "outputs": [
    {
     "data": {
      "text/plain": [
       "<matplotlib.axes._subplots.AxesSubplot at 0x1a17f0b978>"
      ]
     },
     "execution_count": 26,
     "metadata": {},
     "output_type": "execute_result"
    },
    {
     "data": {
      "image/png": "[encoded data removed]",
      "text/plain": [
       "<Figure size 432x288 with 1 Axes>"
      ]
     },
     "metadata": {
      "needs_background": "light"
     },
     "output_type": "display_data"
    }
   ],
   "source": [
    "df[['fairly', 'very']].plot.line()"
   ]
  },
  {
   "cell_type": "markdown",
   "metadata": {},
   "source": [
    "# Gender\n",
    "\n",
    "The average daily number of calories burned by gender is:\n",
    "\n",
    "1600-2400 for females \n",
    "\n",
    "2000-3000 for males\n",
    "\n",
    "The main determining factor of the number of calories individual burns within each gender is activity. The more activity a person has the higher the number of calories they will burn.\n",
    "\n",
    "The subject wearing the fitbit has a mean calories burned of 2145 on the days when it was “out of zone” all day.\n",
    "\n",
    "Comparing this number calories burned with the range of average calories burned by male and female humans, we can infer that the subject is either a male with low activity or a female with moderate activity. \n",
    "\n",
    "Because this data was taken while the subject was “out of zone” for the full day we can conclude that the subject is likely to be male."
   ]
  },
  {
   "cell_type": "code",
   "execution_count": 28,
   "metadata": {},
   "outputs": [
    {
     "data": {
      "text/html": [
       "<div>\n",
       "<style scoped>\n",
       "    .dataframe tbody tr th:only-of-type {\n",
       "        vertical-align: middle;\n",
       "    }\n",
       "\n",
       "    .dataframe tbody tr th {\n",
       "        vertical-align: top;\n",
       "    }\n",
       "\n",
       "    .dataframe thead th {\n",
       "        text-align: right;\n",
       "    }\n",
       "</style>\n",
       "<table border=\"1\" class=\"dataframe\">\n",
       "  <thead>\n",
       "    <tr style=\"text-align: right;\">\n",
       "      <th></th>\n",
       "      <th>total_burned</th>\n",
       "      <th>steps</th>\n",
       "      <th>distance</th>\n",
       "      <th>floors</th>\n",
       "      <th>sedentary</th>\n",
       "      <th>lightly</th>\n",
       "      <th>fairly</th>\n",
       "      <th>very</th>\n",
       "      <th>active_burned</th>\n",
       "      <th>bmr</th>\n",
       "      <th>time</th>\n",
       "    </tr>\n",
       "    <tr>\n",
       "      <th>date</th>\n",
       "      <th></th>\n",
       "      <th></th>\n",
       "      <th></th>\n",
       "      <th></th>\n",
       "      <th></th>\n",
       "      <th></th>\n",
       "      <th></th>\n",
       "      <th></th>\n",
       "      <th></th>\n",
       "      <th></th>\n",
       "      <th></th>\n",
       "    </tr>\n",
       "  </thead>\n",
       "  <tbody>\n",
       "    <tr>\n",
       "      <th>2018-06-06</th>\n",
       "      <td>2145</td>\n",
       "      <td>0</td>\n",
       "      <td>0.0</td>\n",
       "      <td>0</td>\n",
       "      <td>1440</td>\n",
       "      <td>0</td>\n",
       "      <td>0</td>\n",
       "      <td>0</td>\n",
       "      <td>0</td>\n",
       "      <td>2145</td>\n",
       "      <td>1440</td>\n",
       "    </tr>\n",
       "    <tr>\n",
       "      <th>2018-06-07</th>\n",
       "      <td>2146</td>\n",
       "      <td>0</td>\n",
       "      <td>0.0</td>\n",
       "      <td>0</td>\n",
       "      <td>1440</td>\n",
       "      <td>0</td>\n",
       "      <td>0</td>\n",
       "      <td>0</td>\n",
       "      <td>0</td>\n",
       "      <td>2146</td>\n",
       "      <td>1440</td>\n",
       "    </tr>\n",
       "    <tr>\n",
       "      <th>2018-06-11</th>\n",
       "      <td>2146</td>\n",
       "      <td>0</td>\n",
       "      <td>0.0</td>\n",
       "      <td>0</td>\n",
       "      <td>1440</td>\n",
       "      <td>0</td>\n",
       "      <td>0</td>\n",
       "      <td>0</td>\n",
       "      <td>0</td>\n",
       "      <td>2146</td>\n",
       "      <td>1440</td>\n",
       "    </tr>\n",
       "    <tr>\n",
       "      <th>2018-06-26</th>\n",
       "      <td>2144</td>\n",
       "      <td>0</td>\n",
       "      <td>0.0</td>\n",
       "      <td>0</td>\n",
       "      <td>1440</td>\n",
       "      <td>0</td>\n",
       "      <td>0</td>\n",
       "      <td>0</td>\n",
       "      <td>0</td>\n",
       "      <td>2144</td>\n",
       "      <td>1440</td>\n",
       "    </tr>\n",
       "    <tr>\n",
       "      <th>2018-06-27</th>\n",
       "      <td>2145</td>\n",
       "      <td>0</td>\n",
       "      <td>0.0</td>\n",
       "      <td>0</td>\n",
       "      <td>1440</td>\n",
       "      <td>0</td>\n",
       "      <td>0</td>\n",
       "      <td>0</td>\n",
       "      <td>0</td>\n",
       "      <td>2145</td>\n",
       "      <td>1440</td>\n",
       "    </tr>\n",
       "    <tr>\n",
       "      <th>2018-06-28</th>\n",
       "      <td>2145</td>\n",
       "      <td>0</td>\n",
       "      <td>0.0</td>\n",
       "      <td>0</td>\n",
       "      <td>1440</td>\n",
       "      <td>0</td>\n",
       "      <td>0</td>\n",
       "      <td>0</td>\n",
       "      <td>0</td>\n",
       "      <td>2145</td>\n",
       "      <td>1440</td>\n",
       "    </tr>\n",
       "    <tr>\n",
       "      <th>2018-06-30</th>\n",
       "      <td>2145</td>\n",
       "      <td>0</td>\n",
       "      <td>0.0</td>\n",
       "      <td>0</td>\n",
       "      <td>1440</td>\n",
       "      <td>0</td>\n",
       "      <td>0</td>\n",
       "      <td>0</td>\n",
       "      <td>0</td>\n",
       "      <td>2145</td>\n",
       "      <td>1440</td>\n",
       "    </tr>\n",
       "    <tr>\n",
       "      <th>2018-07-03</th>\n",
       "      <td>2144</td>\n",
       "      <td>0</td>\n",
       "      <td>0.0</td>\n",
       "      <td>0</td>\n",
       "      <td>1440</td>\n",
       "      <td>0</td>\n",
       "      <td>0</td>\n",
       "      <td>0</td>\n",
       "      <td>0</td>\n",
       "      <td>2144</td>\n",
       "      <td>1440</td>\n",
       "    </tr>\n",
       "    <tr>\n",
       "      <th>2018-07-06</th>\n",
       "      <td>2144</td>\n",
       "      <td>0</td>\n",
       "      <td>0.0</td>\n",
       "      <td>0</td>\n",
       "      <td>1440</td>\n",
       "      <td>0</td>\n",
       "      <td>0</td>\n",
       "      <td>0</td>\n",
       "      <td>0</td>\n",
       "      <td>2144</td>\n",
       "      <td>1440</td>\n",
       "    </tr>\n",
       "  </tbody>\n",
       "</table>\n",
       "</div>"
      ],
      "text/plain": [
       "            total_burned  steps  distance  floors  sedentary  lightly  fairly  \\\n",
       "date                                                                            \n",
       "2018-06-06          2145      0       0.0       0       1440        0       0   \n",
       "2018-06-07          2146      0       0.0       0       1440        0       0   \n",
       "2018-06-11          2146      0       0.0       0       1440        0       0   \n",
       "2018-06-26          2144      0       0.0       0       1440        0       0   \n",
       "2018-06-27          2145      0       0.0       0       1440        0       0   \n",
       "2018-06-28          2145      0       0.0       0       1440        0       0   \n",
       "2018-06-30          2145      0       0.0       0       1440        0       0   \n",
       "2018-07-03          2144      0       0.0       0       1440        0       0   \n",
       "2018-07-06          2144      0       0.0       0       1440        0       0   \n",
       "\n",
       "            very  active_burned   bmr  time  \n",
       "date                                         \n",
       "2018-06-06     0              0  2145  1440  \n",
       "2018-06-07     0              0  2146  1440  \n",
       "2018-06-11     0              0  2146  1440  \n",
       "2018-06-26     0              0  2144  1440  \n",
       "2018-06-27     0              0  2145  1440  \n",
       "2018-06-28     0              0  2145  1440  \n",
       "2018-06-30     0              0  2145  1440  \n",
       "2018-07-03     0              0  2144  1440  \n",
       "2018-07-06     0              0  2144  1440  "
      ]
     },
     "execution_count": 28,
     "metadata": {},
     "output_type": "execute_result"
    }
   ],
   "source": [
    "#Attempting to determine total calories burned at rest by looking only at the columns where \"out of zone\" is the only feature with a non zero value\n",
    "df1 = df[(df.sedentary > 0) & (df.lightly==0) & (df.fairly==0) & (df.very==0)]\n",
    "df1"
   ]
  },
  {
   "cell_type": "code",
   "execution_count": 29,
   "metadata": {},
   "outputs": [
    {
     "data": {
      "text/plain": [
       "2144.8888888888887"
      ]
     },
     "execution_count": 29,
     "metadata": {},
     "output_type": "execute_result"
    }
   ],
   "source": [
    "# Get mean of total calories burned in a day while subject was in 'out of zone' all day\n",
    "df1.total_burned.mean()"
   ]
  },
  {
   "cell_type": "markdown",
   "metadata": {},
   "source": [
    "# Hight\n",
    "\n",
    "Fitbit calculates a subjects distance by multiplying their steps by their stride distance as follows:\n",
    "\n",
    "Number of steps * stride  = distance\n",
    "\n",
    "Stride can be computed using the following formula:\n",
    "\n",
    "Stride = height * (.415) for men\n",
    "\n",
    "Because we know the subjects number of steps and the resulting distance we are able to calculate the subjects likely stride length. Using the stride length we are then able to calculate theb subject’s likely height.\n",
    "\n",
    "8536(mean number of steps) * stride(ft) = 21120(mean distance(ft))\n",
    "\n",
    "stride(ft) = 2.5\n",
    "\n",
    "2.5 = hight(ft) * .415\n",
    "\n",
    "hight(ft) = 6"
   ]
  },
  {
   "cell_type": "code",
   "execution_count": 31,
   "metadata": {},
   "outputs": [
    {
     "data": {
      "text/html": [
       "<div>\n",
       "<style scoped>\n",
       "    .dataframe tbody tr th:only-of-type {\n",
       "        vertical-align: middle;\n",
       "    }\n",
       "\n",
       "    .dataframe tbody tr th {\n",
       "        vertical-align: top;\n",
       "    }\n",
       "\n",
       "    .dataframe thead th {\n",
       "        text-align: right;\n",
       "    }\n",
       "</style>\n",
       "<table border=\"1\" class=\"dataframe\">\n",
       "  <thead>\n",
       "    <tr style=\"text-align: right;\">\n",
       "      <th></th>\n",
       "      <th>total_burned</th>\n",
       "      <th>steps</th>\n",
       "      <th>distance</th>\n",
       "      <th>floors</th>\n",
       "      <th>sedentary</th>\n",
       "      <th>lightly</th>\n",
       "      <th>fairly</th>\n",
       "      <th>very</th>\n",
       "      <th>active_burned</th>\n",
       "      <th>bmr</th>\n",
       "      <th>time</th>\n",
       "    </tr>\n",
       "  </thead>\n",
       "  <tbody>\n",
       "    <tr>\n",
       "      <th>count</th>\n",
       "      <td>225.000000</td>\n",
       "      <td>225.000000</td>\n",
       "      <td>225.000000</td>\n",
       "      <td>225.000000</td>\n",
       "      <td>225.000000</td>\n",
       "      <td>225.000000</td>\n",
       "      <td>225.000000</td>\n",
       "      <td>225.000000</td>\n",
       "      <td>225.000000</td>\n",
       "      <td>225.000000</td>\n",
       "      <td>225.000000</td>\n",
       "    </tr>\n",
       "    <tr>\n",
       "      <th>mean</th>\n",
       "      <td>3401.911111</td>\n",
       "      <td>8536.186667</td>\n",
       "      <td>4.046800</td>\n",
       "      <td>12.591111</td>\n",
       "      <td>809.520000</td>\n",
       "      <td>188.235556</td>\n",
       "      <td>14.920000</td>\n",
       "      <td>33.871111</td>\n",
       "      <td>1484.546667</td>\n",
       "      <td>1917.364444</td>\n",
       "      <td>1046.546667</td>\n",
       "    </tr>\n",
       "    <tr>\n",
       "      <th>std</th>\n",
       "      <td>632.426578</td>\n",
       "      <td>5255.746608</td>\n",
       "      <td>2.506253</td>\n",
       "      <td>25.844174</td>\n",
       "      <td>243.232639</td>\n",
       "      <td>75.170001</td>\n",
       "      <td>15.363535</td>\n",
       "      <td>37.195986</td>\n",
       "      <td>747.795790</td>\n",
       "      <td>192.377351</td>\n",
       "      <td>187.948200</td>\n",
       "    </tr>\n",
       "    <tr>\n",
       "      <th>min</th>\n",
       "      <td>799.000000</td>\n",
       "      <td>0.000000</td>\n",
       "      <td>0.000000</td>\n",
       "      <td>0.000000</td>\n",
       "      <td>28.000000</td>\n",
       "      <td>0.000000</td>\n",
       "      <td>0.000000</td>\n",
       "      <td>0.000000</td>\n",
       "      <td>0.000000</td>\n",
       "      <td>748.000000</td>\n",
       "      <td>41.000000</td>\n",
       "    </tr>\n",
       "    <tr>\n",
       "      <th>25%</th>\n",
       "      <td>3069.000000</td>\n",
       "      <td>4714.000000</td>\n",
       "      <td>2.220000</td>\n",
       "      <td>2.000000</td>\n",
       "      <td>654.000000</td>\n",
       "      <td>158.000000</td>\n",
       "      <td>3.000000</td>\n",
       "      <td>2.000000</td>\n",
       "      <td>1062.000000</td>\n",
       "      <td>1792.000000</td>\n",
       "      <td>940.000000</td>\n",
       "    </tr>\n",
       "    <tr>\n",
       "      <th>50%</th>\n",
       "      <td>3385.000000</td>\n",
       "      <td>7806.000000</td>\n",
       "      <td>3.680000</td>\n",
       "      <td>7.000000</td>\n",
       "      <td>750.000000</td>\n",
       "      <td>203.000000</td>\n",
       "      <td>11.000000</td>\n",
       "      <td>15.000000</td>\n",
       "      <td>1481.000000</td>\n",
       "      <td>1923.000000</td>\n",
       "      <td>996.000000</td>\n",
       "    </tr>\n",
       "    <tr>\n",
       "      <th>75%</th>\n",
       "      <td>3765.000000</td>\n",
       "      <td>12380.000000</td>\n",
       "      <td>5.900000</td>\n",
       "      <td>13.000000</td>\n",
       "      <td>877.000000</td>\n",
       "      <td>236.000000</td>\n",
       "      <td>21.000000</td>\n",
       "      <td>63.000000</td>\n",
       "      <td>1962.000000</td>\n",
       "      <td>2055.000000</td>\n",
       "      <td>1076.000000</td>\n",
       "    </tr>\n",
       "    <tr>\n",
       "      <th>max</th>\n",
       "      <td>5199.000000</td>\n",
       "      <td>25512.000000</td>\n",
       "      <td>12.000000</td>\n",
       "      <td>195.000000</td>\n",
       "      <td>1440.000000</td>\n",
       "      <td>349.000000</td>\n",
       "      <td>78.000000</td>\n",
       "      <td>154.000000</td>\n",
       "      <td>3596.000000</td>\n",
       "      <td>2291.000000</td>\n",
       "      <td>1440.000000</td>\n",
       "    </tr>\n",
       "  </tbody>\n",
       "</table>\n",
       "</div>"
      ],
      "text/plain": [
       "       total_burned         steps    distance      floors    sedentary  \\\n",
       "count    225.000000    225.000000  225.000000  225.000000   225.000000   \n",
       "mean    3401.911111   8536.186667    4.046800   12.591111   809.520000   \n",
       "std      632.426578   5255.746608    2.506253   25.844174   243.232639   \n",
       "min      799.000000      0.000000    0.000000    0.000000    28.000000   \n",
       "25%     3069.000000   4714.000000    2.220000    2.000000   654.000000   \n",
       "50%     3385.000000   7806.000000    3.680000    7.000000   750.000000   \n",
       "75%     3765.000000  12380.000000    5.900000   13.000000   877.000000   \n",
       "max     5199.000000  25512.000000   12.000000  195.000000  1440.000000   \n",
       "\n",
       "          lightly      fairly        very  active_burned          bmr  \\\n",
       "count  225.000000  225.000000  225.000000     225.000000   225.000000   \n",
       "mean   188.235556   14.920000   33.871111    1484.546667  1917.364444   \n",
       "std     75.170001   15.363535   37.195986     747.795790   192.377351   \n",
       "min      0.000000    0.000000    0.000000       0.000000   748.000000   \n",
       "25%    158.000000    3.000000    2.000000    1062.000000  1792.000000   \n",
       "50%    203.000000   11.000000   15.000000    1481.000000  1923.000000   \n",
       "75%    236.000000   21.000000   63.000000    1962.000000  2055.000000   \n",
       "max    349.000000   78.000000  154.000000    3596.000000  2291.000000   \n",
       "\n",
       "              time  \n",
       "count   225.000000  \n",
       "mean   1046.546667  \n",
       "std     187.948200  \n",
       "min      41.000000  \n",
       "25%     940.000000  \n",
       "50%     996.000000  \n",
       "75%    1076.000000  \n",
       "max    1440.000000  "
      ]
     },
     "execution_count": 31,
     "metadata": {},
     "output_type": "execute_result"
    }
   ],
   "source": [
    "df.describe()"
   ]
  },
  {
   "cell_type": "markdown",
   "metadata": {},
   "source": []
  },
  {
   "cell_type": "code",
   "execution_count": 33,
   "metadata": {},
   "outputs": [
    {
     "data": {
      "text/plain": [
       "2.4741726985039376"
      ]
     },
     "execution_count": 33,
     "metadata": {},
     "output_type": "execute_result"
    }
   ],
   "source": [
    "21120/df.steps.mean()"
   ]
  },
  {
   "cell_type": "code",
   "execution_count": 9,
   "metadata": {},
   "outputs": [
    {
     "data": {
      "text/plain": [
       "21.428571428571427"
      ]
     },
     "execution_count": 9,
     "metadata": {},
     "output_type": "execute_result"
    }
   ],
   "source": [
    "150/7"
   ]
  },
  {
   "cell_type": "code",
   "execution_count": 10,
   "metadata": {},
   "outputs": [
    {
     "data": {
      "text/plain": [
       "10.714285714285714"
      ]
     },
     "execution_count": 10,
     "metadata": {},
     "output_type": "execute_result"
    }
   ],
   "source": [
    "75/7"
   ]
  },
  {
   "cell_type": "code",
   "execution_count": 12,
   "metadata": {},
   "outputs": [
    {
     "data": {
      "text/plain": [
       "89.375"
      ]
     },
     "execution_count": 12,
     "metadata": {},
     "output_type": "execute_result"
    }
   ],
   "source": [
    "2145/24"
   ]
  },
  {
   "cell_type": "code",
   "execution_count": 13,
   "metadata": {},
   "outputs": [
    {
     "data": {
      "text/plain": [
       "Timestamp('2018-12-06 00:00:00')"
      ]
     },
     "execution_count": 13,
     "metadata": {},
     "output_type": "execute_result"
    }
   ],
   "source": [
    "df.index[-1]"
   ]
  },
  {
   "cell_type": "markdown",
   "metadata": {},
   "source": [
    "BMR is the number of calories a person burns by simply existing. BMR varies based on age, sex, size, and genetics. To calculate BMR, a person uses inches for height, pounds for weight, and years for age in the following formulas:\n",
    "\n",
    "For men: 66 + (6.2 x weight) + (12.7 x height) - (6.76 x age)\n",
    "For women: 655.1 + (4.35 x weight) + (4.7 x height) - (4.7 x age)"
   ]
  },
  {
   "cell_type": "code",
   "execution_count": 14,
   "metadata": {},
   "outputs": [
    {
     "ename": "AttributeError",
     "evalue": "module 'matplotlib' has no attribute 'show'",
     "output_type": "error",
     "traceback": [
      "\u001b[0;31m---------------------------------------------------------------------------\u001b[0m",
      "\u001b[0;31mAttributeError\u001b[0m                            Traceback (most recent call last)",
      "\u001b[0;32m<ipython-input-14-f6d137a88ea6>\u001b[0m in \u001b[0;36m<module>\u001b[0;34m\u001b[0m\n\u001b[1;32m      2\u001b[0m \u001b[0;31m#df['2018-06-08':'2018-06-14'].very.resample('w').plot(color='firebrick')\u001b[0m\u001b[0;34m\u001b[0m\u001b[0;34m\u001b[0m\u001b[0;34m\u001b[0m\u001b[0m\n\u001b[1;32m      3\u001b[0m \u001b[0;34m\u001b[0m\u001b[0m\n\u001b[0;32m----> 4\u001b[0;31m \u001b[0mplt\u001b[0m\u001b[0;34m.\u001b[0m\u001b[0mshow\u001b[0m\u001b[0;34m(\u001b[0m\u001b[0;34m)\u001b[0m\u001b[0;34m\u001b[0m\u001b[0;34m\u001b[0m\u001b[0m\n\u001b[0m",
      "\u001b[0;31mAttributeError\u001b[0m: module 'matplotlib' has no attribute 'show'"
     ]
    },
    {
     "data": {
      "image/png": "[encoded data removed]",
      "text/plain": [
       "<Figure size 432x288 with 1 Axes>"
      ]
     },
     "metadata": {
      "needs_background": "light"
     },
     "output_type": "display_data"
    }
   ],
   "source": [
    "df['2018-06-01':'2018-06-07'].very.plot(color='firebrick')\n",
    "#df['2018-06-08':'2018-06-14'].very.resample('w').plot(color='firebrick')\n",
    "\n",
    "plt.show()"
   ]
  },
  {
   "cell_type": "markdown",
   "metadata": {},
   "source": [
    "\n",
    "\t\n",
    "## OUT OF ZONE\n",
    "\n",
    "Below 50% of your maximum heart rate\t\n",
    "Your heart rate may be elevated, but not enough to be considered exercise.\n",
    "\n",
    "\t\n",
    "## FAT BURN ZONE\n",
    "\n",
    "Between 50% and 69% of your maximum heart rate\t\n",
    "This low-to-medium intensity exercise zone may be a good place to start for those new to exercise. It’s called the fat burn zone because a higher percentage of calories are burned from fat, but the total calorie burn rate is lower than more intense exercise zones.\n",
    "\n",
    "\t\n",
    "## CARDIO ZONE\n",
    "\n",
    "Between 70% and 84% of your maximum heart rate.\t\n",
    "In this medium-to-high intensity exercise zone, you're pushing yourself but not straining. Most people should target this exercise zone.\n",
    "\n",
    "## PEAK ZONE\n",
    "\n",
    "Greater than 85% of your maximum heart rate.\t\n",
    "This high-intensity exercise zone is for short, intense sessions that improve performance and speed."
   ]
  },
  {
   "cell_type": "markdown",
   "metadata": {},
   "source": [
    "## HOW DOES MY FITBIT DEVICE DETECT MY HEART RATE?\n",
    "When your heart beats, your capillaries expand and contract based on blood volume changes. To determine your heart rate, the optical heart-rate sensor in your Fitbit device flashes its green LEDs hundreds of times per second and uses light-sensitive photodiodes to detect these volume changes in the capillaries above your wrist. Then your device calculates how many times your heart beats per minute (BPM). The optical heart-rate sensor detects a range of 30-220 BPM.*\n",
    "\n",
    "We use green LEDS because they maximize the signal detected from the capillaries near the surface of the skin. The optical heart-rate sensor also uses infrared light to determine when the device is on your wrist to improve the accuracy of your heart-rate data.\n"
   ]
  },
  {
   "cell_type": "code",
   "execution_count": 16,
   "metadata": {},
   "outputs": [
    {
     "data": {
      "text/plain": [
       "1246"
      ]
     },
     "execution_count": 16,
     "metadata": {},
     "output_type": "execute_result"
    }
   ],
   "source": [
    "14*89"
   ]
  },
  {
   "cell_type": "code",
   "execution_count": 24,
   "metadata": {},
   "outputs": [
    {
     "data": {
      "text/plain": [
       "-15"
      ]
     },
     "execution_count": 24,
     "metadata": {},
     "output_type": "execute_result"
    }
   ],
   "source": [
    "2145-2160"
   ]
  },
  {
   "cell_type": "markdown",
   "metadata": {},
   "source": [
    "# df.burned.value_counts(ascending=False)"
   ]
  },
  {
   "cell_type": "code",
   "execution_count": null,
   "metadata": {},
   "outputs": [],
   "source": [
    "df2 = df[df.time >= 1440]\n",
    "df2.shape"
   ]
  },
  {
   "cell_type": "code",
   "execution_count": null,
   "metadata": {},
   "outputs": [],
   "source": [
    "1440/60"
   ]
  },
  {
   "cell_type": "code",
   "execution_count": null,
   "metadata": {},
   "outputs": [],
   "source": [
    "from "
   ]
  }
 ],
 "metadata": {
  "kernelspec": {
   "display_name": "Python 3",
   "language": "python",
   "name": "python3"
  },
  "language_info": {
   "codemirror_mode": {
    "name": "ipython",
    "version": 3
   },
   "file_extension": ".py",
   "mimetype": "text/x-python",
   "name": "python",
   "nbconvert_exporter": "python",
   "pygments_lexer": "ipython3",
   "version": "3.7.3"
  }
 },
 "nbformat": 4,
 "nbformat_minor": 2
}
