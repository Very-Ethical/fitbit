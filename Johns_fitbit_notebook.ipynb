{
 "cells": [
  {
   "cell_type": "code",
   "execution_count": 1,
   "metadata": {},
   "outputs": [],
   "source": [
    "import acquire as a\n",
    "import prepare as p \n",
    "%matplotlib inline\n",
    "import matplotlib as plt\n",
    "import seaborn as sns"
   ]
  },
  {
   "cell_type": "code",
   "execution_count": 2,
   "metadata": {},
   "outputs": [],
   "source": [
    "df = a.get_activity()"
   ]
  },
  {
   "cell_type": "code",
   "execution_count": 4,
   "metadata": {},
   "outputs": [],
   "source": [
    "df = p.prep_activity(df)"
   ]
  },
  {
   "cell_type": "code",
   "execution_count": 11,
   "metadata": {},
   "outputs": [
    {
     "data": {
      "text/html": [
       "<div>\n",
       "<style scoped>\n",
       "    .dataframe tbody tr th:only-of-type {\n",
       "        vertical-align: middle;\n",
       "    }\n",
       "\n",
       "    .dataframe tbody tr th {\n",
       "        vertical-align: top;\n",
       "    }\n",
       "\n",
       "    .dataframe thead th {\n",
       "        text-align: right;\n",
       "    }\n",
       "</style>\n",
       "<table border=\"1\" class=\"dataframe\">\n",
       "  <thead>\n",
       "    <tr style=\"text-align: right;\">\n",
       "      <th></th>\n",
       "      <th>total_burned</th>\n",
       "      <th>steps</th>\n",
       "      <th>distance</th>\n",
       "      <th>floors</th>\n",
       "      <th>sedentary</th>\n",
       "      <th>lightly</th>\n",
       "      <th>fairly</th>\n",
       "      <th>very</th>\n",
       "      <th>active_burned</th>\n",
       "      <th>bmr</th>\n",
       "      <th>time</th>\n",
       "    </tr>\n",
       "    <tr>\n",
       "      <th>date</th>\n",
       "      <th></th>\n",
       "      <th></th>\n",
       "      <th></th>\n",
       "      <th></th>\n",
       "      <th></th>\n",
       "      <th></th>\n",
       "      <th></th>\n",
       "      <th></th>\n",
       "      <th></th>\n",
       "      <th></th>\n",
       "      <th></th>\n",
       "    </tr>\n",
       "  </thead>\n",
       "  <tbody>\n",
       "    <tr>\n",
       "      <th>2018-04-26</th>\n",
       "      <td>2635</td>\n",
       "      <td>2931</td>\n",
       "      <td>1.38</td>\n",
       "      <td>2</td>\n",
       "      <td>1347</td>\n",
       "      <td>93</td>\n",
       "      <td>0</td>\n",
       "      <td>0</td>\n",
       "      <td>566</td>\n",
       "      <td>2069</td>\n",
       "      <td>1440</td>\n",
       "    </tr>\n",
       "    <tr>\n",
       "      <th>2018-04-27</th>\n",
       "      <td>3649</td>\n",
       "      <td>9971</td>\n",
       "      <td>4.70</td>\n",
       "      <td>19</td>\n",
       "      <td>1158</td>\n",
       "      <td>219</td>\n",
       "      <td>46</td>\n",
       "      <td>17</td>\n",
       "      <td>1752</td>\n",
       "      <td>1897</td>\n",
       "      <td>1440</td>\n",
       "    </tr>\n",
       "    <tr>\n",
       "      <th>2018-04-28</th>\n",
       "      <td>3379</td>\n",
       "      <td>3521</td>\n",
       "      <td>1.66</td>\n",
       "      <td>2</td>\n",
       "      <td>702</td>\n",
       "      <td>155</td>\n",
       "      <td>22</td>\n",
       "      <td>11</td>\n",
       "      <td>1124</td>\n",
       "      <td>2255</td>\n",
       "      <td>890</td>\n",
       "    </tr>\n",
       "    <tr>\n",
       "      <th>2018-04-29</th>\n",
       "      <td>2851</td>\n",
       "      <td>1639</td>\n",
       "      <td>0.77</td>\n",
       "      <td>0</td>\n",
       "      <td>891</td>\n",
       "      <td>122</td>\n",
       "      <td>0</td>\n",
       "      <td>0</td>\n",
       "      <td>602</td>\n",
       "      <td>2249</td>\n",
       "      <td>1013</td>\n",
       "    </tr>\n",
       "    <tr>\n",
       "      <th>2018-04-30</th>\n",
       "      <td>2825</td>\n",
       "      <td>1323</td>\n",
       "      <td>0.62</td>\n",
       "      <td>0</td>\n",
       "      <td>880</td>\n",
       "      <td>104</td>\n",
       "      <td>0</td>\n",
       "      <td>0</td>\n",
       "      <td>540</td>\n",
       "      <td>2285</td>\n",
       "      <td>984</td>\n",
       "    </tr>\n",
       "  </tbody>\n",
       "</table>\n",
       "</div>"
      ],
      "text/plain": [
       "            total_burned  steps  distance  floors  sedentary  lightly  fairly  \\\n",
       "date                                                                            \n",
       "2018-04-26          2635   2931      1.38       2       1347       93       0   \n",
       "2018-04-27          3649   9971      4.70      19       1158      219      46   \n",
       "2018-04-28          3379   3521      1.66       2        702      155      22   \n",
       "2018-04-29          2851   1639      0.77       0        891      122       0   \n",
       "2018-04-30          2825   1323      0.62       0        880      104       0   \n",
       "\n",
       "            very  active_burned   bmr  time  \n",
       "date                                         \n",
       "2018-04-26     0            566  2069  1440  \n",
       "2018-04-27    17           1752  1897  1440  \n",
       "2018-04-28    11           1124  2255   890  \n",
       "2018-04-29     0            602  2249  1013  \n",
       "2018-04-30     0            540  2285   984  "
      ]
     },
     "execution_count": 11,
     "metadata": {},
     "output_type": "execute_result"
    }
   ],
   "source": [
    "df.head()"
   ]
  },
  {
   "cell_type": "code",
   "execution_count": 6,
   "metadata": {},
   "outputs": [
    {
     "data": {
      "text/html": [
       "<div>\n",
       "<style scoped>\n",
       "    .dataframe tbody tr th:only-of-type {\n",
       "        vertical-align: middle;\n",
       "    }\n",
       "\n",
       "    .dataframe tbody tr th {\n",
       "        vertical-align: top;\n",
       "    }\n",
       "\n",
       "    .dataframe thead th {\n",
       "        text-align: right;\n",
       "    }\n",
       "</style>\n",
       "<table border=\"1\" class=\"dataframe\">\n",
       "  <thead>\n",
       "    <tr style=\"text-align: right;\">\n",
       "      <th></th>\n",
       "      <th>total_burned</th>\n",
       "      <th>steps</th>\n",
       "      <th>distance</th>\n",
       "      <th>floors</th>\n",
       "      <th>sedentary</th>\n",
       "      <th>lightly</th>\n",
       "      <th>fairly</th>\n",
       "      <th>very</th>\n",
       "      <th>active_burned</th>\n",
       "      <th>bmr</th>\n",
       "      <th>time</th>\n",
       "    </tr>\n",
       "  </thead>\n",
       "  <tbody>\n",
       "    <tr>\n",
       "      <th>count</th>\n",
       "      <td>225.000000</td>\n",
       "      <td>225.000000</td>\n",
       "      <td>225.000000</td>\n",
       "      <td>225.000000</td>\n",
       "      <td>225.000000</td>\n",
       "      <td>225.000000</td>\n",
       "      <td>225.000000</td>\n",
       "      <td>225.000000</td>\n",
       "      <td>225.000000</td>\n",
       "      <td>225.000000</td>\n",
       "      <td>225.000000</td>\n",
       "    </tr>\n",
       "    <tr>\n",
       "      <th>mean</th>\n",
       "      <td>3401.911111</td>\n",
       "      <td>8536.186667</td>\n",
       "      <td>4.046800</td>\n",
       "      <td>12.591111</td>\n",
       "      <td>809.520000</td>\n",
       "      <td>188.235556</td>\n",
       "      <td>14.920000</td>\n",
       "      <td>33.871111</td>\n",
       "      <td>1484.546667</td>\n",
       "      <td>1917.364444</td>\n",
       "      <td>1046.546667</td>\n",
       "    </tr>\n",
       "    <tr>\n",
       "      <th>std</th>\n",
       "      <td>632.426578</td>\n",
       "      <td>5255.746608</td>\n",
       "      <td>2.506253</td>\n",
       "      <td>25.844174</td>\n",
       "      <td>243.232639</td>\n",
       "      <td>75.170001</td>\n",
       "      <td>15.363535</td>\n",
       "      <td>37.195986</td>\n",
       "      <td>747.795790</td>\n",
       "      <td>192.377351</td>\n",
       "      <td>187.948200</td>\n",
       "    </tr>\n",
       "    <tr>\n",
       "      <th>min</th>\n",
       "      <td>799.000000</td>\n",
       "      <td>0.000000</td>\n",
       "      <td>0.000000</td>\n",
       "      <td>0.000000</td>\n",
       "      <td>28.000000</td>\n",
       "      <td>0.000000</td>\n",
       "      <td>0.000000</td>\n",
       "      <td>0.000000</td>\n",
       "      <td>0.000000</td>\n",
       "      <td>748.000000</td>\n",
       "      <td>41.000000</td>\n",
       "    </tr>\n",
       "    <tr>\n",
       "      <th>25%</th>\n",
       "      <td>3069.000000</td>\n",
       "      <td>4714.000000</td>\n",
       "      <td>2.220000</td>\n",
       "      <td>2.000000</td>\n",
       "      <td>654.000000</td>\n",
       "      <td>158.000000</td>\n",
       "      <td>3.000000</td>\n",
       "      <td>2.000000</td>\n",
       "      <td>1062.000000</td>\n",
       "      <td>1792.000000</td>\n",
       "      <td>940.000000</td>\n",
       "    </tr>\n",
       "    <tr>\n",
       "      <th>50%</th>\n",
       "      <td>3385.000000</td>\n",
       "      <td>7806.000000</td>\n",
       "      <td>3.680000</td>\n",
       "      <td>7.000000</td>\n",
       "      <td>750.000000</td>\n",
       "      <td>203.000000</td>\n",
       "      <td>11.000000</td>\n",
       "      <td>15.000000</td>\n",
       "      <td>1481.000000</td>\n",
       "      <td>1923.000000</td>\n",
       "      <td>996.000000</td>\n",
       "    </tr>\n",
       "    <tr>\n",
       "      <th>75%</th>\n",
       "      <td>3765.000000</td>\n",
       "      <td>12380.000000</td>\n",
       "      <td>5.900000</td>\n",
       "      <td>13.000000</td>\n",
       "      <td>877.000000</td>\n",
       "      <td>236.000000</td>\n",
       "      <td>21.000000</td>\n",
       "      <td>63.000000</td>\n",
       "      <td>1962.000000</td>\n",
       "      <td>2055.000000</td>\n",
       "      <td>1076.000000</td>\n",
       "    </tr>\n",
       "    <tr>\n",
       "      <th>max</th>\n",
       "      <td>5199.000000</td>\n",
       "      <td>25512.000000</td>\n",
       "      <td>12.000000</td>\n",
       "      <td>195.000000</td>\n",
       "      <td>1440.000000</td>\n",
       "      <td>349.000000</td>\n",
       "      <td>78.000000</td>\n",
       "      <td>154.000000</td>\n",
       "      <td>3596.000000</td>\n",
       "      <td>2291.000000</td>\n",
       "      <td>1440.000000</td>\n",
       "    </tr>\n",
       "  </tbody>\n",
       "</table>\n",
       "</div>"
      ],
      "text/plain": [
       "       total_burned         steps    distance      floors    sedentary  \\\n",
       "count    225.000000    225.000000  225.000000  225.000000   225.000000   \n",
       "mean    3401.911111   8536.186667    4.046800   12.591111   809.520000   \n",
       "std      632.426578   5255.746608    2.506253   25.844174   243.232639   \n",
       "min      799.000000      0.000000    0.000000    0.000000    28.000000   \n",
       "25%     3069.000000   4714.000000    2.220000    2.000000   654.000000   \n",
       "50%     3385.000000   7806.000000    3.680000    7.000000   750.000000   \n",
       "75%     3765.000000  12380.000000    5.900000   13.000000   877.000000   \n",
       "max     5199.000000  25512.000000   12.000000  195.000000  1440.000000   \n",
       "\n",
       "          lightly      fairly        very  active_burned          bmr  \\\n",
       "count  225.000000  225.000000  225.000000     225.000000   225.000000   \n",
       "mean   188.235556   14.920000   33.871111    1484.546667  1917.364444   \n",
       "std     75.170001   15.363535   37.195986     747.795790   192.377351   \n",
       "min      0.000000    0.000000    0.000000       0.000000   748.000000   \n",
       "25%    158.000000    3.000000    2.000000    1062.000000  1792.000000   \n",
       "50%    203.000000   11.000000   15.000000    1481.000000  1923.000000   \n",
       "75%    236.000000   21.000000   63.000000    1962.000000  2055.000000   \n",
       "max    349.000000   78.000000  154.000000    3596.000000  2291.000000   \n",
       "\n",
       "              time  \n",
       "count   225.000000  \n",
       "mean   1046.546667  \n",
       "std     187.948200  \n",
       "min      41.000000  \n",
       "25%     940.000000  \n",
       "50%     996.000000  \n",
       "75%    1076.000000  \n",
       "max    1440.000000  "
      ]
     },
     "execution_count": 6,
     "metadata": {},
     "output_type": "execute_result"
    }
   ],
   "source": [
    "df.describe()"
   ]
  },
  {
   "cell_type": "code",
   "execution_count": 12,
   "metadata": {},
   "outputs": [
    {
     "data": {
      "text/html": [
       "<div>\n",
       "<style scoped>\n",
       "    .dataframe tbody tr th:only-of-type {\n",
       "        vertical-align: middle;\n",
       "    }\n",
       "\n",
       "    .dataframe tbody tr th {\n",
       "        vertical-align: top;\n",
       "    }\n",
       "\n",
       "    .dataframe thead th {\n",
       "        text-align: right;\n",
       "    }\n",
       "</style>\n",
       "<table border=\"1\" class=\"dataframe\">\n",
       "  <thead>\n",
       "    <tr style=\"text-align: right;\">\n",
       "      <th></th>\n",
       "      <th>total_burned</th>\n",
       "      <th>steps</th>\n",
       "      <th>distance</th>\n",
       "      <th>floors</th>\n",
       "      <th>sedentary</th>\n",
       "      <th>lightly</th>\n",
       "      <th>fairly</th>\n",
       "      <th>very</th>\n",
       "      <th>active_burned</th>\n",
       "      <th>bmr</th>\n",
       "      <th>time</th>\n",
       "    </tr>\n",
       "    <tr>\n",
       "      <th>date</th>\n",
       "      <th></th>\n",
       "      <th></th>\n",
       "      <th></th>\n",
       "      <th></th>\n",
       "      <th></th>\n",
       "      <th></th>\n",
       "      <th></th>\n",
       "      <th></th>\n",
       "      <th></th>\n",
       "      <th></th>\n",
       "      <th></th>\n",
       "    </tr>\n",
       "  </thead>\n",
       "  <tbody>\n",
       "    <tr>\n",
       "      <th>2018-06-06</th>\n",
       "      <td>2145</td>\n",
       "      <td>0</td>\n",
       "      <td>0.0</td>\n",
       "      <td>0</td>\n",
       "      <td>1440</td>\n",
       "      <td>0</td>\n",
       "      <td>0</td>\n",
       "      <td>0</td>\n",
       "      <td>0</td>\n",
       "      <td>2145</td>\n",
       "      <td>1440</td>\n",
       "    </tr>\n",
       "    <tr>\n",
       "      <th>2018-06-07</th>\n",
       "      <td>2146</td>\n",
       "      <td>0</td>\n",
       "      <td>0.0</td>\n",
       "      <td>0</td>\n",
       "      <td>1440</td>\n",
       "      <td>0</td>\n",
       "      <td>0</td>\n",
       "      <td>0</td>\n",
       "      <td>0</td>\n",
       "      <td>2146</td>\n",
       "      <td>1440</td>\n",
       "    </tr>\n",
       "    <tr>\n",
       "      <th>2018-06-11</th>\n",
       "      <td>2146</td>\n",
       "      <td>0</td>\n",
       "      <td>0.0</td>\n",
       "      <td>0</td>\n",
       "      <td>1440</td>\n",
       "      <td>0</td>\n",
       "      <td>0</td>\n",
       "      <td>0</td>\n",
       "      <td>0</td>\n",
       "      <td>2146</td>\n",
       "      <td>1440</td>\n",
       "    </tr>\n",
       "    <tr>\n",
       "      <th>2018-06-26</th>\n",
       "      <td>2144</td>\n",
       "      <td>0</td>\n",
       "      <td>0.0</td>\n",
       "      <td>0</td>\n",
       "      <td>1440</td>\n",
       "      <td>0</td>\n",
       "      <td>0</td>\n",
       "      <td>0</td>\n",
       "      <td>0</td>\n",
       "      <td>2144</td>\n",
       "      <td>1440</td>\n",
       "    </tr>\n",
       "    <tr>\n",
       "      <th>2018-06-27</th>\n",
       "      <td>2145</td>\n",
       "      <td>0</td>\n",
       "      <td>0.0</td>\n",
       "      <td>0</td>\n",
       "      <td>1440</td>\n",
       "      <td>0</td>\n",
       "      <td>0</td>\n",
       "      <td>0</td>\n",
       "      <td>0</td>\n",
       "      <td>2145</td>\n",
       "      <td>1440</td>\n",
       "    </tr>\n",
       "    <tr>\n",
       "      <th>2018-06-28</th>\n",
       "      <td>2145</td>\n",
       "      <td>0</td>\n",
       "      <td>0.0</td>\n",
       "      <td>0</td>\n",
       "      <td>1440</td>\n",
       "      <td>0</td>\n",
       "      <td>0</td>\n",
       "      <td>0</td>\n",
       "      <td>0</td>\n",
       "      <td>2145</td>\n",
       "      <td>1440</td>\n",
       "    </tr>\n",
       "    <tr>\n",
       "      <th>2018-06-30</th>\n",
       "      <td>2145</td>\n",
       "      <td>0</td>\n",
       "      <td>0.0</td>\n",
       "      <td>0</td>\n",
       "      <td>1440</td>\n",
       "      <td>0</td>\n",
       "      <td>0</td>\n",
       "      <td>0</td>\n",
       "      <td>0</td>\n",
       "      <td>2145</td>\n",
       "      <td>1440</td>\n",
       "    </tr>\n",
       "    <tr>\n",
       "      <th>2018-07-03</th>\n",
       "      <td>2144</td>\n",
       "      <td>0</td>\n",
       "      <td>0.0</td>\n",
       "      <td>0</td>\n",
       "      <td>1440</td>\n",
       "      <td>0</td>\n",
       "      <td>0</td>\n",
       "      <td>0</td>\n",
       "      <td>0</td>\n",
       "      <td>2144</td>\n",
       "      <td>1440</td>\n",
       "    </tr>\n",
       "    <tr>\n",
       "      <th>2018-07-06</th>\n",
       "      <td>2144</td>\n",
       "      <td>0</td>\n",
       "      <td>0.0</td>\n",
       "      <td>0</td>\n",
       "      <td>1440</td>\n",
       "      <td>0</td>\n",
       "      <td>0</td>\n",
       "      <td>0</td>\n",
       "      <td>0</td>\n",
       "      <td>2144</td>\n",
       "      <td>1440</td>\n",
       "    </tr>\n",
       "  </tbody>\n",
       "</table>\n",
       "</div>"
      ],
      "text/plain": [
       "            total_burned  steps  distance  floors  sedentary  lightly  fairly  \\\n",
       "date                                                                            \n",
       "2018-06-06          2145      0       0.0       0       1440        0       0   \n",
       "2018-06-07          2146      0       0.0       0       1440        0       0   \n",
       "2018-06-11          2146      0       0.0       0       1440        0       0   \n",
       "2018-06-26          2144      0       0.0       0       1440        0       0   \n",
       "2018-06-27          2145      0       0.0       0       1440        0       0   \n",
       "2018-06-28          2145      0       0.0       0       1440        0       0   \n",
       "2018-06-30          2145      0       0.0       0       1440        0       0   \n",
       "2018-07-03          2144      0       0.0       0       1440        0       0   \n",
       "2018-07-06          2144      0       0.0       0       1440        0       0   \n",
       "\n",
       "            very  active_burned   bmr  time  \n",
       "date                                         \n",
       "2018-06-06     0              0  2145  1440  \n",
       "2018-06-07     0              0  2146  1440  \n",
       "2018-06-11     0              0  2146  1440  \n",
       "2018-06-26     0              0  2144  1440  \n",
       "2018-06-27     0              0  2145  1440  \n",
       "2018-06-28     0              0  2145  1440  \n",
       "2018-06-30     0              0  2145  1440  \n",
       "2018-07-03     0              0  2144  1440  \n",
       "2018-07-06     0              0  2144  1440  "
      ]
     },
     "execution_count": 12,
     "metadata": {},
     "output_type": "execute_result"
    }
   ],
   "source": [
    "#Attempting to determine total calories burned at rest by looking only at the columns where \"out of zone\" is the only feature with a non zero value\n",
    "df1 = df[(df.sedentary > 0) & (df.lightly==0) & (df.fairly==0) & (df.very==0)]\n",
    "df1"
   ]
  },
  {
   "cell_type": "code",
   "execution_count": 14,
   "metadata": {},
   "outputs": [
    {
     "data": {
      "text/plain": [
       "2144.8888888888887"
      ]
     },
     "execution_count": 14,
     "metadata": {},
     "output_type": "execute_result"
    }
   ],
   "source": [
    "# getting average of values found in previouse cell\n",
    "df1.total_burned.mean()"
   ]
  },
  {
   "cell_type": "markdown",
   "metadata": {},
   "source": [
    "## Evidence for Gender\n",
    "The average daily amount of calories burned by gender is:\n",
    "\n",
    "1600-2400 for females \n",
    "\n",
    "2000-3000 for males\n",
    "\n",
    "the main determining factor in where an individual falls in this estimation is activity.\n",
    "The more activity a person has the higher the amount of calories they will burn.\n",
    "\n",
    "The person wearing the fitbit has a estimated 2145 calories burned on the days that they were sedintary.\n",
    "\n",
    "With this amount of calories burned in a day we would expect the individual in question to be a male with low activity  or a female with moderate activity because of where the number falls withen each estimit.\n",
    "\n",
    "Because we know that the person in question is sedintary during this time the evidence suggests that the wearer of the fit bit is male"
   ]
  },
  {
   "cell_type": "markdown",
   "metadata": {},
   "source": [
    "# Evedence for Activity Amounts\n",
    "\n",
    "Fitbit has listed four heartrate zones that is tracks:\n",
    "\n",
    "## OUT OF ZONE\n",
    "Below 50% of your maximum heart rate\n",
    "Your heart rate may be elevated, but not enough to be considered exercise.\n",
    "\n",
    "## FAT BURN ZONE\n",
    "Between 50% and 69% of your maximum heart rate\n",
    "This low-to-medium intensity exercise zone may be a good place to start for those new to exercise. It’s called the fat burn zone because a higher percentage of calories are burned from fat, but the total calorie burn rate is lower than more intense exercise zones.\n",
    "\n",
    "## CARDIO ZONE\n",
    "Between 70% and 84% of your maximum heart rate.\n",
    "In this medium-to-high intensity exercise zone, you're pushing yourself but not straining. Most people should target this exercise zone.\n",
    "\n",
    "## PEAK ZONE\n",
    "Greater than 85% of your maximum heart rate.\n",
    "This high-intensity exercise zone is for short, intense sessions that improve performance and speed.\n",
    "\n",
    "It is likely that these zones are reflected in the four intensity of activity features that are in the dataset and explain how those numbers are measured."
   ]
  },
  {
   "cell_type": "code",
   "execution_count": 19,
   "metadata": {},
   "outputs": [
    {
     "data": {
      "text/plain": [
       "21.428571428571427"
      ]
     },
     "execution_count": 19,
     "metadata": {},
     "output_type": "execute_result"
    }
   ],
   "source": [
    "150/7"
   ]
  },
  {
   "cell_type": "code",
   "execution_count": 20,
   "metadata": {},
   "outputs": [
    {
     "data": {
      "text/plain": [
       "10.714285714285714"
      ]
     },
     "execution_count": 20,
     "metadata": {},
     "output_type": "execute_result"
    }
   ],
   "source": [
    "75/7"
   ]
  },
  {
   "cell_type": "markdown",
   "metadata": {},
   "source": [
    "# Evidence for lable swap\n",
    "\n",
    "it is recomended that healthy adults get at least 150 minutes of moderate aerobic activity or 75 minutes of vigorouse aerobic activity per day.\n",
    "\n",
    "This comes to roughly 21 minutes of moderate activity per day \n",
    "\n",
    "or 11 minutes of of vigorouse activity per day\n",
    "\n",
    "What was labeled as very active in the data averaged to about 34 min per day.\n",
    "\n",
    "What was labeled fairly active averaged about 11 min.\n",
    "\n",
    "These averages make more sence if they are the result of an unfortunate lable swap.\n",
    "\n",
    "Vigerouse aerobic activity is also recomended in short bursts looking at how fairly and very plot next to each other \n",
    "\n",
    "it makes more sence to infer that the labels are swapped."
   ]
  },
  {
   "cell_type": "code",
   "execution_count": 27,
   "metadata": {},
   "outputs": [
    {
     "data": {
      "text/plain": [
       "<matplotlib.axes._subplots.AxesSubplot at 0x1a17e279b0>"
      ]
     },
     "execution_count": 27,
     "metadata": {},
     "output_type": "execute_result"
    },
    {
     "data": {
      "image/png": "[encoded data removed]",
      "text/plain": [
       "<Figure size 432x288 with 1 Axes>"
      ]
     },
     "metadata": {
      "needs_background": "light"
     },
     "output_type": "display_data"
    }
   ],
   "source": [
    "df[['fairly', 'very']].plot.line()"
   ]
  },
  {
   "cell_type": "markdown",
   "metadata": {},
   "source": [
    "# Evidence for Weight\n",
    "\n",
    "Metabolic equivalent(MTE), is a of measure of how intence an activity it. It can be used to determine how many calories a person will burn in one hour. An MTE of one is roughly equivalent to the energy cost of sitting quietly\n",
    "The calculation is as follows:\n",
    "\n",
    "MET * weight(in kilos) = calories burned in one hour\n",
    "\n",
    "Using the sedentary data from earlyer we can use this formula to estimate the weight of the person wearing the fitbit at an MET of 1\n",
    "\n",
    "1 * weight(in kilos) = 2145 calories burned in a day at rest /24\n",
    "\n",
    "weight in kilos = 89\n",
    "\n",
    "weight in lbs = 196\n",
    "\n",
    "\n",
    "\n",
    "\n",
    "\n",
    "\n"
   ]
  },
  {
   "cell_type": "code",
   "execution_count": 28,
   "metadata": {},
   "outputs": [
    {
     "data": {
      "text/plain": [
       "89.375"
      ]
     },
     "execution_count": 28,
     "metadata": {},
     "output_type": "execute_result"
    }
   ],
   "source": [
    "2145/24"
   ]
  },
  {
   "cell_type": "code",
   "execution_count": null,
   "metadata": {},
   "outputs": [],
   "source": [
    "df.index[-1]"
   ]
  },
  {
   "cell_type": "markdown",
   "metadata": {},
   "source": [
    "BMR is the number of calories a person burns by simply existing. BMR varies based on age, sex, size, and genetics. To calculate BMR, a person uses inches for height, pounds for weight, and years for age in the following formulas:\n",
    "\n",
    "For men: 66 + (6.2 x weight) + (12.7 x height) - (6.76 x age)\n",
    "For women: 655.1 + (4.35 x weight) + (4.7 x height) - (4.7 x age)"
   ]
  },
  {
   "cell_type": "code",
   "execution_count": null,
   "metadata": {},
   "outputs": [],
   "source": [
    "df['2018-06-01':'2018-06-07'].very.plot(color='firebrick')\n",
    "#df['2018-06-08':'2018-06-14'].very.resample('w').plot(color='firebrick')\n",
    "\n",
    "plt.show()"
   ]
  },
  {
   "cell_type": "markdown",
   "metadata": {},
   "source": [
    "\n",
    "\t\n",
    "## OUT OF ZONE\n",
    "\n",
    "Below 50% of your maximum heart rate\t\n",
    "Your heart rate may be elevated, but not enough to be considered exercise.\n",
    "\n",
    "\t\n",
    "## FAT BURN ZONE\n",
    "\n",
    "Between 50% and 69% of your maximum heart rate\t\n",
    "This low-to-medium intensity exercise zone may be a good place to start for those new to exercise. It’s called the fat burn zone because a higher percentage of calories are burned from fat, but the total calorie burn rate is lower than more intense exercise zones.\n",
    "\n",
    "\t\n",
    "## CARDIO ZONE\n",
    "\n",
    "Between 70% and 84% of your maximum heart rate.\t\n",
    "In this medium-to-high intensity exercise zone, you're pushing yourself but not straining. Most people should target this exercise zone.\n",
    "\n",
    "## PEAK ZONE\n",
    "\n",
    "Greater than 85% of your maximum heart rate.\t\n",
    "This high-intensity exercise zone is for short, intense sessions that improve performance and speed."
   ]
  },
  {
   "cell_type": "markdown",
   "metadata": {},
   "source": [
    "## HOW DOES MY FITBIT DEVICE DETECT MY HEART RATE?\n",
    "When your heart beats, your capillaries expand and contract based on blood volume changes. To determine your heart rate, the optical heart-rate sensor in your Fitbit device flashes its green LEDs hundreds of times per second and uses light-sensitive photodiodes to detect these volume changes in the capillaries above your wrist. Then your device calculates how many times your heart beats per minute (BPM). The optical heart-rate sensor detects a range of 30-220 BPM.*\n",
    "\n",
    "We use green LEDS because they maximize the signal detected from the capillaries near the surface of the skin. The optical heart-rate sensor also uses infrared light to determine when the device is on your wrist to improve the accuracy of your heart-rate data.\n"
   ]
  },
  {
   "cell_type": "code",
   "execution_count": 9,
   "metadata": {},
   "outputs": [
    {
     "data": {
      "text/plain": [
       "89.375"
      ]
     },
     "execution_count": 9,
     "metadata": {},
     "output_type": "execute_result"
    }
   ],
   "source": [
    "2145/24"
   ]
  },
  {
   "cell_type": "code",
   "execution_count": null,
   "metadata": {},
   "outputs": [],
   "source": [
    "df.burned.value_counts(ascending=False)"
   ]
  },
  {
   "cell_type": "code",
   "execution_count": 17,
   "metadata": {},
   "outputs": [
    {
     "data": {
      "text/plain": [
       "(29, 11)"
      ]
     },
     "execution_count": 17,
     "metadata": {},
     "output_type": "execute_result"
    }
   ],
   "source": [
    "df2 = df[df.time >= 1440]\n",
    "df2.shape"
   ]
  },
  {
   "cell_type": "code",
   "execution_count": 18,
   "metadata": {},
   "outputs": [
    {
     "data": {
      "text/plain": [
       "24.0"
      ]
     },
     "execution_count": 18,
     "metadata": {},
     "output_type": "execute_result"
    }
   ],
   "source": [
    "1440/60"
   ]
  },
  {
   "cell_type": "code",
   "execution_count": null,
   "metadata": {},
   "outputs": [],
   "source": [
    "from "
   ]
  }
 ],
 "metadata": {
  "kernelspec": {
   "display_name": "Python 3",
   "language": "python",
   "name": "python3"
  },
  "language_info": {
   "codemirror_mode": {
    "name": "ipython",
    "version": 3
   },
   "file_extension": ".py",
   "mimetype": "text/x-python",
   "name": "python",
   "nbconvert_exporter": "python",
   "pygments_lexer": "ipython3",
   "version": "3.7.3"
  }
 },
 "nbformat": 4,
 "nbformat_minor": 2
}
